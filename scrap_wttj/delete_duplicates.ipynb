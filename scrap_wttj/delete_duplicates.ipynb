{
 "cells": [
  {
   "cell_type": "code",
   "execution_count": 13,
   "id": "initial_id",
   "metadata": {
    "collapsed": true,
    "ExecuteTime": {
     "end_time": "2024-03-12T12:04:37.965541Z",
     "start_time": "2024-03-12T12:04:37.963012Z"
    }
   },
   "outputs": [],
   "source": [
    "import pandas as pd\n",
    "import json"
   ]
  },
  {
   "cell_type": "code",
   "outputs": [],
   "source": [
    "with open('wttj_database_bronze_with_duplicates_corrige.json', 'r', encoding='utf-8') as file:\n",
    "    data = json.load(file)\n"
   ],
   "metadata": {
    "collapsed": false,
    "ExecuteTime": {
     "end_time": "2024-03-12T12:04:40.474286Z",
     "start_time": "2024-03-12T12:04:40.370302Z"
    }
   },
   "id": "e50dcf1d2ed06fb2",
   "execution_count": 14
  },
  {
   "cell_type": "code",
   "outputs": [],
   "source": [
    "# Utiliser json_normalize pour créer un DataFrame en formatant le fichier\n",
    "df = pd.json_normalize(data)"
   ],
   "metadata": {
    "collapsed": false,
    "ExecuteTime": {
     "end_time": "2024-03-12T12:04:42.703368Z",
     "start_time": "2024-03-12T12:04:42.653064Z"
    }
   },
   "id": "32ab71cc025b998c",
   "execution_count": 15
  },
  {
   "cell_type": "code",
   "outputs": [],
   "source": [
    "# Appliquez la fonction à chaque élément de chaque colonne\n",
    "df = df.apply(lambda x: x.map(lambda y: ','.join(map(str, y)) if isinstance(y, list) else y))"
   ],
   "metadata": {
    "collapsed": false,
    "ExecuteTime": {
     "end_time": "2024-03-12T12:04:45.335699Z",
     "start_time": "2024-03-12T12:04:45.294270Z"
    }
   },
   "id": "ee3eaeb1e2b64a15",
   "execution_count": 16
  },
  {
   "cell_type": "code",
   "outputs": [
    {
     "name": "stdout",
     "output_type": "stream",
     "text": [
      "<class 'pandas.core.frame.DataFrame'>\n",
      "RangeIndex: 6002 entries, 0 to 6001\n",
      "Data columns (total 36 columns):\n",
      " #   Column                        Non-Null Count  Dtype \n",
      "---  ------                        --------------  ----- \n",
      " 0   job_title                     6002 non-null   object\n",
      " 1   contract_type                 6002 non-null   object\n",
      " 2   salary                        6002 non-null   object\n",
      " 3   company                       6002 non-null   object\n",
      " 4   location                      6002 non-null   object\n",
      " 5   remote                        6002 non-null   object\n",
      " 6   experience                    3816 non-null   object\n",
      " 7   education_level               2480 non-null   object\n",
      " 8   publication_date              6002 non-null   object\n",
      " 9   sector                        5967 non-null   object\n",
      " 10  company_size                  5899 non-null   object\n",
      " 11  creation_date                 5859 non-null   object\n",
      " 12  address                       0 non-null      object\n",
      " 13  average_age_of_employees      4912 non-null   object\n",
      " 14  turnover_in_millions          3040 non-null   object\n",
      " 15  proportion_female             3873 non-null   object\n",
      " 16  proportion_male               0 non-null      object\n",
      " 17  programming_languages         1837 non-null   object\n",
      " 18  databases                     660 non-null    object\n",
      " 19  data_analyze                  74 non-null     object\n",
      " 20  big_data_tools                487 non-null    object\n",
      " 21  ML_and_data_mining            179 non-null    object\n",
      " 22  data_viz                      475 non-null    object\n",
      " 23  statistics                    0 non-null      object\n",
      " 24  cloud_computing               1305 non-null   object\n",
      " 25  dev_tools                     2085 non-null   object\n",
      " 26  OS                            248 non-null    object\n",
      " 27  big_data_and_processing       41 non-null     object\n",
      " 28  automation_and_orchestration  1092 non-null   object\n",
      " 29  IaC                           381 non-null    object\n",
      " 30  security_and_network          40 non-null     object\n",
      " 31  virtualization                51 non-null     object\n",
      " 32  containers                    758 non-null    object\n",
      " 33  collaboration                 1153 non-null   object\n",
      " 34  skills                        2558 non-null   object\n",
      " 35  raw_description               6002 non-null   object\n",
      "dtypes: object(36)\n",
      "memory usage: 1.6+ MB\n"
     ]
    }
   ],
   "source": [
    "df.info()"
   ],
   "metadata": {
    "collapsed": false,
    "ExecuteTime": {
     "end_time": "2024-03-12T12:04:47.601595Z",
     "start_time": "2024-03-12T12:04:47.589586Z"
    }
   },
   "id": "80f917e4110c0e65",
   "execution_count": 17
  },
  {
   "cell_type": "code",
   "outputs": [],
   "source": [
    "df_no_duplicates = df[~df.duplicated()]"
   ],
   "metadata": {
    "collapsed": false,
    "ExecuteTime": {
     "end_time": "2024-03-12T12:04:54.020572Z",
     "start_time": "2024-03-12T12:04:53.955027Z"
    }
   },
   "id": "614d4fd63bf8b51e",
   "execution_count": 18
  },
  {
   "cell_type": "code",
   "outputs": [
    {
     "name": "stdout",
     "output_type": "stream",
     "text": [
      "<class 'pandas.core.frame.DataFrame'>\n",
      "Index: 3947 entries, 0 to 5939\n",
      "Data columns (total 36 columns):\n",
      " #   Column                        Non-Null Count  Dtype \n",
      "---  ------                        --------------  ----- \n",
      " 0   job_title                     3947 non-null   object\n",
      " 1   contract_type                 3947 non-null   object\n",
      " 2   salary                        3947 non-null   object\n",
      " 3   company                       3947 non-null   object\n",
      " 4   location                      3947 non-null   object\n",
      " 5   remote                        3947 non-null   object\n",
      " 6   experience                    2428 non-null   object\n",
      " 7   education_level               1639 non-null   object\n",
      " 8   publication_date              3947 non-null   object\n",
      " 9   sector                        3928 non-null   object\n",
      " 10  company_size                  3886 non-null   object\n",
      " 11  creation_date                 3864 non-null   object\n",
      " 12  address                       0 non-null      object\n",
      " 13  average_age_of_employees      3179 non-null   object\n",
      " 14  turnover_in_millions          2089 non-null   object\n",
      " 15  proportion_female             2666 non-null   object\n",
      " 16  proportion_male               0 non-null      object\n",
      " 17  programming_languages         1180 non-null   object\n",
      " 18  databases                     405 non-null    object\n",
      " 19  data_analyze                  45 non-null     object\n",
      " 20  big_data_tools                251 non-null    object\n",
      " 21  ML_and_data_mining            108 non-null    object\n",
      " 22  data_viz                      349 non-null    object\n",
      " 23  statistics                    0 non-null      object\n",
      " 24  cloud_computing               806 non-null    object\n",
      " 25  dev_tools                     1308 non-null   object\n",
      " 26  OS                            198 non-null    object\n",
      " 27  big_data_and_processing       24 non-null     object\n",
      " 28  automation_and_orchestration  751 non-null    object\n",
      " 29  IaC                           247 non-null    object\n",
      " 30  security_and_network          34 non-null     object\n",
      " 31  virtualization                43 non-null     object\n",
      " 32  containers                    498 non-null    object\n",
      " 33  collaboration                 747 non-null    object\n",
      " 34  skills                        1559 non-null   object\n",
      " 35  raw_description               3947 non-null   object\n",
      "dtypes: object(36)\n",
      "memory usage: 1.1+ MB\n"
     ]
    }
   ],
   "source": [
    "df_no_duplicates.info()"
   ],
   "metadata": {
    "collapsed": false,
    "ExecuteTime": {
     "end_time": "2024-03-12T12:04:56.374846Z",
     "start_time": "2024-03-12T12:04:56.364167Z"
    }
   },
   "id": "4bc30f99e47eca1f",
   "execution_count": 19
  },
  {
   "cell_type": "code",
   "outputs": [],
   "source": [
    "df_no_duplicates.to_json('wttj_database_bronze_with_no_duplicates_corrige.json', orient='records', lines=True)"
   ],
   "metadata": {
    "collapsed": false,
    "ExecuteTime": {
     "end_time": "2024-03-12T12:05:11.839756Z",
     "start_time": "2024-03-12T12:05:11.758112Z"
    }
   },
   "id": "c33b4654cfc20c2a",
   "execution_count": 20
  },
  {
   "cell_type": "code",
   "outputs": [
    {
     "data": {
      "text/plain": "                                     job_title              contract_type  \\\n0      Développeur Data Scala/Spark/Java (H/F)                        CDI   \n1     Consultant.e Data Engineer Expérimenté.e                        CDI   \n2         Cell Performance Data Engineer (F/H)                        CDI   \n3                               MLOps Engineer                        CDI   \n4                          DATA ENGINEER - H/F                      Stage   \n...                                        ...                        ...   \n5997                 Data BI Developer M/F CDI                        CDI   \n5998                        Architecte Données  CDD / Temporaire(36 mois)   \n5999                   Back-end manager H/F/NB                        CDI   \n6000                     Agile Program Manager                        CDI   \n6001                  Senior Account Executive                        CDI   \n\n            salary                                        company  \\\n0     Non spécifié                                        Cyllene   \n1      45K à 60K €                            The Information Lab   \n2     Non spécifié                 ACC - Automotive Cells Company   \n3     Non spécifié                                       Weborama   \n4     Non spécifié                               Banque de France   \n...            ...                                            ...   \n5997  Non spécifié                                           ORIS   \n5998  Non spécifié  Direction du numérique des ministères sociaux   \n5999  Non spécifié                                          Ipsos   \n6000  Non spécifié                                      Dynatrace   \n6001  Non spécifié                              Heex Technologies   \n\n              location                    remote experience  education_level  \\\n0        Paris, Pessac      Télétravail fréquent        > 4             None   \n1                Paris      Télétravail fréquent       None             None   \n2               Bruges  Télétravail non autorisé       None             None   \n3     Levallois-Perret      Télétravail fréquent        > 2  Bac +5 / Master   \n4                Paris  Télétravail non autorisé   > 6 mois             None   \n...                ...                       ...        ...              ...   \n5997              Lyon   Télétravail occasionnel        > 2             None   \n5998             Paris      Télétravail fréquent        > 5  Bac +5 / Master   \n5999             Paris   Télétravail occasionnel       None             None   \n6000            Vienna      Télétravail fréquent        > 2             None   \n6001             Paris   Télétravail occasionnel       None             None   \n\n     publication_date                                             sector  ...  \\\n0          2024-01-31  Application mobile, SaaS / Cloud Services, Big...  ...   \n1          2024-01-17                  Logiciels, IT / Digital, Big Data  ...   \n2          2024-02-20      Ingénieries Spécialisées, Energie, Automobile  ...   \n3          2024-02-20  Intelligence artificielle / Machine Learning, ...  ...   \n4          2024-02-20                                  Banque, Assurance  ...   \n...               ...                                                ...  ...   \n5997       2024-01-09  Intelligence artificielle / Machine Learning, ...  ...   \n5998       2024-01-23                 Logiciels, Administration publique  ...   \n5999       2024-01-17     Stratégie, Big Data, Marketing / Communication  ...   \n6000       2024-02-06     Logiciels, IT / Digital, SaaS / Cloud Services  ...   \n6001       2024-01-29  Logiciels, Intelligence artificielle / Machine...  ...   \n\n        OS big_data_and_processing automation_and_orchestration   IaC  \\\n0     None                    None           docker/kubernetes,  None   \n1     None                    None                        (chef  None   \n2     None                    None                         None  None   \n3     None                    None                         None  None   \n4     None                    None                         None  None   \n...    ...                     ...                          ...   ...   \n5997  None                    None                         None  None   \n5998  None                    None                         None  None   \n5999  None               cassandra                  ansible.our  None   \n6000  None                    None                         None  None   \n6001  None                    None                         None  None   \n\n     security_and_network virtualization  \\\n0                    None           None   \n1                    None           None   \n2                    None           None   \n3                    None           None   \n4                    None           None   \n...                   ...            ...   \n5997                 None           None   \n5998                 None           None   \n5999                 None           None   \n6000                 None           None   \n6001                 None           None   \n\n                                 containers    collaboration  \\\n0     docker/kubernetes,,docker/kubernetes,  jira,scrum/jira   \n1                                      None             None   \n2                                      None             None   \n3                                      None             None   \n4                                      None             None   \n...                                     ...              ...   \n5997                                   None            teams   \n5998                                   None             None   \n5999                                docker,            teams   \n6000                                   None             None   \n6001                                   None      teams,teams   \n\n                                     skills  \\\n0     cloud),clouds,cloud,,cloud.participer   \n1                                      None   \n2                                      None   \n3                     ml,mlops,auto-ml,,ml.   \n4                                      None   \n...                                     ...   \n5997                                   None   \n5998                                   None   \n5999                                   None   \n6000                                   None   \n6001                                   None   \n\n                                        raw_description  \n0     Descriptif du posteDans le cadre de notre croi...  \n1     Descriptif du posteQui sommes-nous ?Véritables...  \n2     Descriptif du posteThe main focus of this posi...  \n3     Descriptif du posteL’équipe Data ScienceVous r...  \n4     Descriptif du posteDans le cadre de son plan d...  \n...                                                 ...  \n5997  Descriptif du posteAs a Data Business Intellig...  \n5998  Descriptif du posteLe Data Office de la DNUM r...  \n5999  Descriptif du posteIpsos Synthesio is a leadin...  \n6000  Descriptif du posteJob DescriptionAs Agile Pro...  \n6001  Descriptif du posteAbout the JobAs a Senior Ac...  \n\n[6002 rows x 36 columns]",
      "text/html": "<div>\n<style scoped>\n    .dataframe tbody tr th:only-of-type {\n        vertical-align: middle;\n    }\n\n    .dataframe tbody tr th {\n        vertical-align: top;\n    }\n\n    .dataframe thead th {\n        text-align: right;\n    }\n</style>\n<table border=\"1\" class=\"dataframe\">\n  <thead>\n    <tr style=\"text-align: right;\">\n      <th></th>\n      <th>job_title</th>\n      <th>contract_type</th>\n      <th>salary</th>\n      <th>company</th>\n      <th>location</th>\n      <th>remote</th>\n      <th>experience</th>\n      <th>education_level</th>\n      <th>publication_date</th>\n      <th>sector</th>\n      <th>...</th>\n      <th>OS</th>\n      <th>big_data_and_processing</th>\n      <th>automation_and_orchestration</th>\n      <th>IaC</th>\n      <th>security_and_network</th>\n      <th>virtualization</th>\n      <th>containers</th>\n      <th>collaboration</th>\n      <th>skills</th>\n      <th>raw_description</th>\n    </tr>\n  </thead>\n  <tbody>\n    <tr>\n      <th>0</th>\n      <td>Développeur Data Scala/Spark/Java (H/F)</td>\n      <td>CDI</td>\n      <td>Non spécifié</td>\n      <td>Cyllene</td>\n      <td>Paris, Pessac</td>\n      <td>Télétravail fréquent</td>\n      <td>&gt; 4</td>\n      <td>None</td>\n      <td>2024-01-31</td>\n      <td>Application mobile, SaaS / Cloud Services, Big...</td>\n      <td>...</td>\n      <td>None</td>\n      <td>None</td>\n      <td>docker/kubernetes,</td>\n      <td>None</td>\n      <td>None</td>\n      <td>None</td>\n      <td>docker/kubernetes,,docker/kubernetes,</td>\n      <td>jira,scrum/jira</td>\n      <td>cloud),clouds,cloud,,cloud.participer</td>\n      <td>Descriptif du posteDans le cadre de notre croi...</td>\n    </tr>\n    <tr>\n      <th>1</th>\n      <td>Consultant.e Data Engineer Expérimenté.e</td>\n      <td>CDI</td>\n      <td>45K à 60K €</td>\n      <td>The Information Lab</td>\n      <td>Paris</td>\n      <td>Télétravail fréquent</td>\n      <td>None</td>\n      <td>None</td>\n      <td>2024-01-17</td>\n      <td>Logiciels, IT / Digital, Big Data</td>\n      <td>...</td>\n      <td>None</td>\n      <td>None</td>\n      <td>(chef</td>\n      <td>None</td>\n      <td>None</td>\n      <td>None</td>\n      <td>None</td>\n      <td>None</td>\n      <td>None</td>\n      <td>Descriptif du posteQui sommes-nous ?Véritables...</td>\n    </tr>\n    <tr>\n      <th>2</th>\n      <td>Cell Performance Data Engineer (F/H)</td>\n      <td>CDI</td>\n      <td>Non spécifié</td>\n      <td>ACC - Automotive Cells Company</td>\n      <td>Bruges</td>\n      <td>Télétravail non autorisé</td>\n      <td>None</td>\n      <td>None</td>\n      <td>2024-02-20</td>\n      <td>Ingénieries Spécialisées, Energie, Automobile</td>\n      <td>...</td>\n      <td>None</td>\n      <td>None</td>\n      <td>None</td>\n      <td>None</td>\n      <td>None</td>\n      <td>None</td>\n      <td>None</td>\n      <td>None</td>\n      <td>None</td>\n      <td>Descriptif du posteThe main focus of this posi...</td>\n    </tr>\n    <tr>\n      <th>3</th>\n      <td>MLOps Engineer</td>\n      <td>CDI</td>\n      <td>Non spécifié</td>\n      <td>Weborama</td>\n      <td>Levallois-Perret</td>\n      <td>Télétravail fréquent</td>\n      <td>&gt; 2</td>\n      <td>Bac +5 / Master</td>\n      <td>2024-02-20</td>\n      <td>Intelligence artificielle / Machine Learning, ...</td>\n      <td>...</td>\n      <td>None</td>\n      <td>None</td>\n      <td>None</td>\n      <td>None</td>\n      <td>None</td>\n      <td>None</td>\n      <td>None</td>\n      <td>None</td>\n      <td>ml,mlops,auto-ml,,ml.</td>\n      <td>Descriptif du posteL’équipe Data ScienceVous r...</td>\n    </tr>\n    <tr>\n      <th>4</th>\n      <td>DATA ENGINEER - H/F</td>\n      <td>Stage</td>\n      <td>Non spécifié</td>\n      <td>Banque de France</td>\n      <td>Paris</td>\n      <td>Télétravail non autorisé</td>\n      <td>&gt; 6 mois</td>\n      <td>None</td>\n      <td>2024-02-20</td>\n      <td>Banque, Assurance</td>\n      <td>...</td>\n      <td>None</td>\n      <td>None</td>\n      <td>None</td>\n      <td>None</td>\n      <td>None</td>\n      <td>None</td>\n      <td>None</td>\n      <td>None</td>\n      <td>None</td>\n      <td>Descriptif du posteDans le cadre de son plan d...</td>\n    </tr>\n    <tr>\n      <th>...</th>\n      <td>...</td>\n      <td>...</td>\n      <td>...</td>\n      <td>...</td>\n      <td>...</td>\n      <td>...</td>\n      <td>...</td>\n      <td>...</td>\n      <td>...</td>\n      <td>...</td>\n      <td>...</td>\n      <td>...</td>\n      <td>...</td>\n      <td>...</td>\n      <td>...</td>\n      <td>...</td>\n      <td>...</td>\n      <td>...</td>\n      <td>...</td>\n      <td>...</td>\n      <td>...</td>\n    </tr>\n    <tr>\n      <th>5997</th>\n      <td>Data BI Developer M/F CDI</td>\n      <td>CDI</td>\n      <td>Non spécifié</td>\n      <td>ORIS</td>\n      <td>Lyon</td>\n      <td>Télétravail occasionnel</td>\n      <td>&gt; 2</td>\n      <td>None</td>\n      <td>2024-01-09</td>\n      <td>Intelligence artificielle / Machine Learning, ...</td>\n      <td>...</td>\n      <td>None</td>\n      <td>None</td>\n      <td>None</td>\n      <td>None</td>\n      <td>None</td>\n      <td>None</td>\n      <td>None</td>\n      <td>teams</td>\n      <td>None</td>\n      <td>Descriptif du posteAs a Data Business Intellig...</td>\n    </tr>\n    <tr>\n      <th>5998</th>\n      <td>Architecte Données</td>\n      <td>CDD / Temporaire(36 mois)</td>\n      <td>Non spécifié</td>\n      <td>Direction du numérique des ministères sociaux</td>\n      <td>Paris</td>\n      <td>Télétravail fréquent</td>\n      <td>&gt; 5</td>\n      <td>Bac +5 / Master</td>\n      <td>2024-01-23</td>\n      <td>Logiciels, Administration publique</td>\n      <td>...</td>\n      <td>None</td>\n      <td>None</td>\n      <td>None</td>\n      <td>None</td>\n      <td>None</td>\n      <td>None</td>\n      <td>None</td>\n      <td>None</td>\n      <td>None</td>\n      <td>Descriptif du posteLe Data Office de la DNUM r...</td>\n    </tr>\n    <tr>\n      <th>5999</th>\n      <td>Back-end manager H/F/NB</td>\n      <td>CDI</td>\n      <td>Non spécifié</td>\n      <td>Ipsos</td>\n      <td>Paris</td>\n      <td>Télétravail occasionnel</td>\n      <td>None</td>\n      <td>None</td>\n      <td>2024-01-17</td>\n      <td>Stratégie, Big Data, Marketing / Communication</td>\n      <td>...</td>\n      <td>None</td>\n      <td>cassandra</td>\n      <td>ansible.our</td>\n      <td>None</td>\n      <td>None</td>\n      <td>None</td>\n      <td>docker,</td>\n      <td>teams</td>\n      <td>None</td>\n      <td>Descriptif du posteIpsos Synthesio is a leadin...</td>\n    </tr>\n    <tr>\n      <th>6000</th>\n      <td>Agile Program Manager</td>\n      <td>CDI</td>\n      <td>Non spécifié</td>\n      <td>Dynatrace</td>\n      <td>Vienna</td>\n      <td>Télétravail fréquent</td>\n      <td>&gt; 2</td>\n      <td>None</td>\n      <td>2024-02-06</td>\n      <td>Logiciels, IT / Digital, SaaS / Cloud Services</td>\n      <td>...</td>\n      <td>None</td>\n      <td>None</td>\n      <td>None</td>\n      <td>None</td>\n      <td>None</td>\n      <td>None</td>\n      <td>None</td>\n      <td>None</td>\n      <td>None</td>\n      <td>Descriptif du posteJob DescriptionAs Agile Pro...</td>\n    </tr>\n    <tr>\n      <th>6001</th>\n      <td>Senior Account Executive</td>\n      <td>CDI</td>\n      <td>Non spécifié</td>\n      <td>Heex Technologies</td>\n      <td>Paris</td>\n      <td>Télétravail occasionnel</td>\n      <td>None</td>\n      <td>None</td>\n      <td>2024-01-29</td>\n      <td>Logiciels, Intelligence artificielle / Machine...</td>\n      <td>...</td>\n      <td>None</td>\n      <td>None</td>\n      <td>None</td>\n      <td>None</td>\n      <td>None</td>\n      <td>None</td>\n      <td>None</td>\n      <td>teams,teams</td>\n      <td>None</td>\n      <td>Descriptif du posteAbout the JobAs a Senior Ac...</td>\n    </tr>\n  </tbody>\n</table>\n<p>6002 rows × 36 columns</p>\n</div>"
     },
     "execution_count": 21,
     "metadata": {},
     "output_type": "execute_result"
    }
   ],
   "source": [
    "df"
   ],
   "metadata": {
    "collapsed": false,
    "ExecuteTime": {
     "end_time": "2024-03-12T12:05:13.925829Z",
     "start_time": "2024-03-12T12:05:13.912180Z"
    }
   },
   "id": "3cd6cbb0e175c384",
   "execution_count": 21
  }
 ],
 "metadata": {
  "kernelspec": {
   "display_name": "Python 3",
   "language": "python",
   "name": "python3"
  },
  "language_info": {
   "codemirror_mode": {
    "name": "ipython",
    "version": 2
   },
   "file_extension": ".py",
   "mimetype": "text/x-python",
   "name": "python",
   "nbconvert_exporter": "python",
   "pygments_lexer": "ipython2",
   "version": "2.7.6"
  }
 },
 "nbformat": 4,
 "nbformat_minor": 5
}
